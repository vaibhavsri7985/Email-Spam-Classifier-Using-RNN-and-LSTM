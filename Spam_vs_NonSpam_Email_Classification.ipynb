{
  "nbformat": 4,
  "nbformat_minor": 0,
  "metadata": {
    "colab": {
      "provenance": [],
      "gpuType": "T4"
    },
    "kernelspec": {
      "name": "python3",
      "display_name": "Python 3"
    },
    "language_info": {
      "name": "python"
    },
    "accelerator": "GPU"
  },
  "cells": [
    {
      "cell_type": "markdown",
      "source": [
        "📌 Problem Statement\n",
        "\n",
        "With the growth of digital communication, spam emails have become a major issue, ranging from unwanted advertisements to malicious phishing attempts. Traditional rule-based filters often fail to capture the evolving patterns of spam.\n",
        "\n",
        "The objective of this project is to implement an intelligent text classification system that automatically distinguishes between Spam and Non-Spam emails. This project uses Recurrent Neural Networks (RNN) and Long Short-Term Memory (LSTM) models with Keras/TensorFlow to capture the sequential nature of email text."
      ],
      "metadata": {
        "id": "Dpg4ed4z9c5J"
      }
    },
    {
      "cell_type": "code",
      "execution_count": 1,
      "metadata": {
        "id": "KehaFG9p2CRO"
      },
      "outputs": [],
      "source": [
        "import numpy as np\n",
        "import pandas as pd\n",
        "import re\n",
        "import matplotlib.pyplot as plt\n",
        "%matplotlib inline\n",
        "import seaborn as sns\n",
        "import kagglehub\n",
        "import os"
      ]
    },
    {
      "cell_type": "code",
      "source": [
        "path = kagglehub.dataset_download(\"meruvulikith/190k-spam-ham-email-dataset-for-classification\")\n",
        "csv_file=os.path.join(path,'spam_Emails_data.csv')\n",
        "data=pd.read_csv(csv_file)\n",
        "data.head()"
      ],
      "metadata": {
        "colab": {
          "base_uri": "https://localhost:8080/",
          "height": 223
        },
        "id": "ENNJVub02Yso",
        "outputId": "8dc6e6fd-faa5-4dc8-f762-b29ba8c1a0b5"
      },
      "execution_count": 2,
      "outputs": [
        {
          "output_type": "stream",
          "name": "stdout",
          "text": [
            "Using Colab cache for faster access to the '190k-spam-ham-email-dataset-for-classification' dataset.\n"
          ]
        },
        {
          "output_type": "execute_result",
          "data": {
            "text/plain": [
              "  label                                               text\n",
              "0  Spam  viiiiiiagraaaa\\nonly for the ones that want to...\n",
              "1   Ham  got ice thought look az original message ice o...\n",
              "2  Spam  yo ur wom an ne eds an escapenumber in ch ma n...\n",
              "3  Spam  start increasing your odds of success & live s...\n",
              "4   Ham  author jra date escapenumber escapenumber esca..."
            ],
            "text/html": [
              "\n",
              "  <div id=\"df-a5b108b0-465a-4a4a-aee1-187b51081ac6\" class=\"colab-df-container\">\n",
              "    <div>\n",
              "<style scoped>\n",
              "    .dataframe tbody tr th:only-of-type {\n",
              "        vertical-align: middle;\n",
              "    }\n",
              "\n",
              "    .dataframe tbody tr th {\n",
              "        vertical-align: top;\n",
              "    }\n",
              "\n",
              "    .dataframe thead th {\n",
              "        text-align: right;\n",
              "    }\n",
              "</style>\n",
              "<table border=\"1\" class=\"dataframe\">\n",
              "  <thead>\n",
              "    <tr style=\"text-align: right;\">\n",
              "      <th></th>\n",
              "      <th>label</th>\n",
              "      <th>text</th>\n",
              "    </tr>\n",
              "  </thead>\n",
              "  <tbody>\n",
              "    <tr>\n",
              "      <th>0</th>\n",
              "      <td>Spam</td>\n",
              "      <td>viiiiiiagraaaa\\nonly for the ones that want to...</td>\n",
              "    </tr>\n",
              "    <tr>\n",
              "      <th>1</th>\n",
              "      <td>Ham</td>\n",
              "      <td>got ice thought look az original message ice o...</td>\n",
              "    </tr>\n",
              "    <tr>\n",
              "      <th>2</th>\n",
              "      <td>Spam</td>\n",
              "      <td>yo ur wom an ne eds an escapenumber in ch ma n...</td>\n",
              "    </tr>\n",
              "    <tr>\n",
              "      <th>3</th>\n",
              "      <td>Spam</td>\n",
              "      <td>start increasing your odds of success &amp; live s...</td>\n",
              "    </tr>\n",
              "    <tr>\n",
              "      <th>4</th>\n",
              "      <td>Ham</td>\n",
              "      <td>author jra date escapenumber escapenumber esca...</td>\n",
              "    </tr>\n",
              "  </tbody>\n",
              "</table>\n",
              "</div>\n",
              "    <div class=\"colab-df-buttons\">\n",
              "\n",
              "  <div class=\"colab-df-container\">\n",
              "    <button class=\"colab-df-convert\" onclick=\"convertToInteractive('df-a5b108b0-465a-4a4a-aee1-187b51081ac6')\"\n",
              "            title=\"Convert this dataframe to an interactive table.\"\n",
              "            style=\"display:none;\">\n",
              "\n",
              "  <svg xmlns=\"http://www.w3.org/2000/svg\" height=\"24px\" viewBox=\"0 -960 960 960\">\n",
              "    <path d=\"M120-120v-720h720v720H120Zm60-500h600v-160H180v160Zm220 220h160v-160H400v160Zm0 220h160v-160H400v160ZM180-400h160v-160H180v160Zm440 0h160v-160H620v160ZM180-180h160v-160H180v160Zm440 0h160v-160H620v160Z\"/>\n",
              "  </svg>\n",
              "    </button>\n",
              "\n",
              "  <style>\n",
              "    .colab-df-container {\n",
              "      display:flex;\n",
              "      gap: 12px;\n",
              "    }\n",
              "\n",
              "    .colab-df-convert {\n",
              "      background-color: #E8F0FE;\n",
              "      border: none;\n",
              "      border-radius: 50%;\n",
              "      cursor: pointer;\n",
              "      display: none;\n",
              "      fill: #1967D2;\n",
              "      height: 32px;\n",
              "      padding: 0 0 0 0;\n",
              "      width: 32px;\n",
              "    }\n",
              "\n",
              "    .colab-df-convert:hover {\n",
              "      background-color: #E2EBFA;\n",
              "      box-shadow: 0px 1px 2px rgba(60, 64, 67, 0.3), 0px 1px 3px 1px rgba(60, 64, 67, 0.15);\n",
              "      fill: #174EA6;\n",
              "    }\n",
              "\n",
              "    .colab-df-buttons div {\n",
              "      margin-bottom: 4px;\n",
              "    }\n",
              "\n",
              "    [theme=dark] .colab-df-convert {\n",
              "      background-color: #3B4455;\n",
              "      fill: #D2E3FC;\n",
              "    }\n",
              "\n",
              "    [theme=dark] .colab-df-convert:hover {\n",
              "      background-color: #434B5C;\n",
              "      box-shadow: 0px 1px 3px 1px rgba(0, 0, 0, 0.15);\n",
              "      filter: drop-shadow(0px 1px 2px rgba(0, 0, 0, 0.3));\n",
              "      fill: #FFFFFF;\n",
              "    }\n",
              "  </style>\n",
              "\n",
              "    <script>\n",
              "      const buttonEl =\n",
              "        document.querySelector('#df-a5b108b0-465a-4a4a-aee1-187b51081ac6 button.colab-df-convert');\n",
              "      buttonEl.style.display =\n",
              "        google.colab.kernel.accessAllowed ? 'block' : 'none';\n",
              "\n",
              "      async function convertToInteractive(key) {\n",
              "        const element = document.querySelector('#df-a5b108b0-465a-4a4a-aee1-187b51081ac6');\n",
              "        const dataTable =\n",
              "          await google.colab.kernel.invokeFunction('convertToInteractive',\n",
              "                                                    [key], {});\n",
              "        if (!dataTable) return;\n",
              "\n",
              "        const docLinkHtml = 'Like what you see? Visit the ' +\n",
              "          '<a target=\"_blank\" href=https://colab.research.google.com/notebooks/data_table.ipynb>data table notebook</a>'\n",
              "          + ' to learn more about interactive tables.';\n",
              "        element.innerHTML = '';\n",
              "        dataTable['output_type'] = 'display_data';\n",
              "        await google.colab.output.renderOutput(dataTable, element);\n",
              "        const docLink = document.createElement('div');\n",
              "        docLink.innerHTML = docLinkHtml;\n",
              "        element.appendChild(docLink);\n",
              "      }\n",
              "    </script>\n",
              "  </div>\n",
              "\n",
              "\n",
              "    <div id=\"df-36bf726d-efd6-43b3-b197-dfa27dc41893\">\n",
              "      <button class=\"colab-df-quickchart\" onclick=\"quickchart('df-36bf726d-efd6-43b3-b197-dfa27dc41893')\"\n",
              "                title=\"Suggest charts\"\n",
              "                style=\"display:none;\">\n",
              "\n",
              "<svg xmlns=\"http://www.w3.org/2000/svg\" height=\"24px\"viewBox=\"0 0 24 24\"\n",
              "     width=\"24px\">\n",
              "    <g>\n",
              "        <path d=\"M19 3H5c-1.1 0-2 .9-2 2v14c0 1.1.9 2 2 2h14c1.1 0 2-.9 2-2V5c0-1.1-.9-2-2-2zM9 17H7v-7h2v7zm4 0h-2V7h2v10zm4 0h-2v-4h2v4z\"/>\n",
              "    </g>\n",
              "</svg>\n",
              "      </button>\n",
              "\n",
              "<style>\n",
              "  .colab-df-quickchart {\n",
              "      --bg-color: #E8F0FE;\n",
              "      --fill-color: #1967D2;\n",
              "      --hover-bg-color: #E2EBFA;\n",
              "      --hover-fill-color: #174EA6;\n",
              "      --disabled-fill-color: #AAA;\n",
              "      --disabled-bg-color: #DDD;\n",
              "  }\n",
              "\n",
              "  [theme=dark] .colab-df-quickchart {\n",
              "      --bg-color: #3B4455;\n",
              "      --fill-color: #D2E3FC;\n",
              "      --hover-bg-color: #434B5C;\n",
              "      --hover-fill-color: #FFFFFF;\n",
              "      --disabled-bg-color: #3B4455;\n",
              "      --disabled-fill-color: #666;\n",
              "  }\n",
              "\n",
              "  .colab-df-quickchart {\n",
              "    background-color: var(--bg-color);\n",
              "    border: none;\n",
              "    border-radius: 50%;\n",
              "    cursor: pointer;\n",
              "    display: none;\n",
              "    fill: var(--fill-color);\n",
              "    height: 32px;\n",
              "    padding: 0;\n",
              "    width: 32px;\n",
              "  }\n",
              "\n",
              "  .colab-df-quickchart:hover {\n",
              "    background-color: var(--hover-bg-color);\n",
              "    box-shadow: 0 1px 2px rgba(60, 64, 67, 0.3), 0 1px 3px 1px rgba(60, 64, 67, 0.15);\n",
              "    fill: var(--button-hover-fill-color);\n",
              "  }\n",
              "\n",
              "  .colab-df-quickchart-complete:disabled,\n",
              "  .colab-df-quickchart-complete:disabled:hover {\n",
              "    background-color: var(--disabled-bg-color);\n",
              "    fill: var(--disabled-fill-color);\n",
              "    box-shadow: none;\n",
              "  }\n",
              "\n",
              "  .colab-df-spinner {\n",
              "    border: 2px solid var(--fill-color);\n",
              "    border-color: transparent;\n",
              "    border-bottom-color: var(--fill-color);\n",
              "    animation:\n",
              "      spin 1s steps(1) infinite;\n",
              "  }\n",
              "\n",
              "  @keyframes spin {\n",
              "    0% {\n",
              "      border-color: transparent;\n",
              "      border-bottom-color: var(--fill-color);\n",
              "      border-left-color: var(--fill-color);\n",
              "    }\n",
              "    20% {\n",
              "      border-color: transparent;\n",
              "      border-left-color: var(--fill-color);\n",
              "      border-top-color: var(--fill-color);\n",
              "    }\n",
              "    30% {\n",
              "      border-color: transparent;\n",
              "      border-left-color: var(--fill-color);\n",
              "      border-top-color: var(--fill-color);\n",
              "      border-right-color: var(--fill-color);\n",
              "    }\n",
              "    40% {\n",
              "      border-color: transparent;\n",
              "      border-right-color: var(--fill-color);\n",
              "      border-top-color: var(--fill-color);\n",
              "    }\n",
              "    60% {\n",
              "      border-color: transparent;\n",
              "      border-right-color: var(--fill-color);\n",
              "    }\n",
              "    80% {\n",
              "      border-color: transparent;\n",
              "      border-right-color: var(--fill-color);\n",
              "      border-bottom-color: var(--fill-color);\n",
              "    }\n",
              "    90% {\n",
              "      border-color: transparent;\n",
              "      border-bottom-color: var(--fill-color);\n",
              "    }\n",
              "  }\n",
              "</style>\n",
              "\n",
              "      <script>\n",
              "        async function quickchart(key) {\n",
              "          const quickchartButtonEl =\n",
              "            document.querySelector('#' + key + ' button');\n",
              "          quickchartButtonEl.disabled = true;  // To prevent multiple clicks.\n",
              "          quickchartButtonEl.classList.add('colab-df-spinner');\n",
              "          try {\n",
              "            const charts = await google.colab.kernel.invokeFunction(\n",
              "                'suggestCharts', [key], {});\n",
              "          } catch (error) {\n",
              "            console.error('Error during call to suggestCharts:', error);\n",
              "          }\n",
              "          quickchartButtonEl.classList.remove('colab-df-spinner');\n",
              "          quickchartButtonEl.classList.add('colab-df-quickchart-complete');\n",
              "        }\n",
              "        (() => {\n",
              "          let quickchartButtonEl =\n",
              "            document.querySelector('#df-36bf726d-efd6-43b3-b197-dfa27dc41893 button');\n",
              "          quickchartButtonEl.style.display =\n",
              "            google.colab.kernel.accessAllowed ? 'block' : 'none';\n",
              "        })();\n",
              "      </script>\n",
              "    </div>\n",
              "\n",
              "    </div>\n",
              "  </div>\n"
            ],
            "application/vnd.google.colaboratory.intrinsic+json": {
              "type": "dataframe",
              "variable_name": "data"
            }
          },
          "metadata": {},
          "execution_count": 2
        }
      ]
    },
    {
      "cell_type": "code",
      "source": [
        "data.shape"
      ],
      "metadata": {
        "colab": {
          "base_uri": "https://localhost:8080/"
        },
        "id": "v7-53g513JXq",
        "outputId": "65fe0c82-ffc1-4647-b84b-a8aead84b6f3"
      },
      "execution_count": 3,
      "outputs": [
        {
          "output_type": "execute_result",
          "data": {
            "text/plain": [
              "(193852, 2)"
            ]
          },
          "metadata": {},
          "execution_count": 3
        }
      ]
    },
    {
      "cell_type": "code",
      "source": [
        "data.duplicated().sum()"
      ],
      "metadata": {
        "colab": {
          "base_uri": "https://localhost:8080/"
        },
        "id": "ptD6NfVN3SyQ",
        "outputId": "c169f841-9d4c-4059-9c10-d73bc425fbaf"
      },
      "execution_count": 4,
      "outputs": [
        {
          "output_type": "execute_result",
          "data": {
            "text/plain": [
              "np.int64(0)"
            ]
          },
          "metadata": {},
          "execution_count": 4
        }
      ]
    },
    {
      "cell_type": "code",
      "source": [
        "data.isnull().sum()"
      ],
      "metadata": {
        "colab": {
          "base_uri": "https://localhost:8080/",
          "height": 146
        },
        "id": "mUXsoFKN-FrI",
        "outputId": "dc97797f-1f3a-45ab-8814-6565bd9f7faa"
      },
      "execution_count": 5,
      "outputs": [
        {
          "output_type": "execute_result",
          "data": {
            "text/plain": [
              "label    0\n",
              "text     2\n",
              "dtype: int64"
            ],
            "text/html": [
              "<div>\n",
              "<style scoped>\n",
              "    .dataframe tbody tr th:only-of-type {\n",
              "        vertical-align: middle;\n",
              "    }\n",
              "\n",
              "    .dataframe tbody tr th {\n",
              "        vertical-align: top;\n",
              "    }\n",
              "\n",
              "    .dataframe thead th {\n",
              "        text-align: right;\n",
              "    }\n",
              "</style>\n",
              "<table border=\"1\" class=\"dataframe\">\n",
              "  <thead>\n",
              "    <tr style=\"text-align: right;\">\n",
              "      <th></th>\n",
              "      <th>0</th>\n",
              "    </tr>\n",
              "  </thead>\n",
              "  <tbody>\n",
              "    <tr>\n",
              "      <th>label</th>\n",
              "      <td>0</td>\n",
              "    </tr>\n",
              "    <tr>\n",
              "      <th>text</th>\n",
              "      <td>2</td>\n",
              "    </tr>\n",
              "  </tbody>\n",
              "</table>\n",
              "</div><br><label><b>dtype:</b> int64</label>"
            ]
          },
          "metadata": {},
          "execution_count": 5
        }
      ]
    },
    {
      "cell_type": "code",
      "source": [
        "data.dropna(inplace=True)"
      ],
      "metadata": {
        "id": "iQ2IHS7d-Hq5"
      },
      "execution_count": 6,
      "outputs": []
    },
    {
      "cell_type": "code",
      "source": [
        "data['label'].value_counts()"
      ],
      "metadata": {
        "colab": {
          "base_uri": "https://localhost:8080/",
          "height": 178
        },
        "id": "scXm7Pgl72Ln",
        "outputId": "3bc96f45-85a2-48d9-b9c7-d815a10f6b46"
      },
      "execution_count": 7,
      "outputs": [
        {
          "output_type": "execute_result",
          "data": {
            "text/plain": [
              "label\n",
              "Ham     102159\n",
              "Spam     91691\n",
              "Name: count, dtype: int64"
            ],
            "text/html": [
              "<div>\n",
              "<style scoped>\n",
              "    .dataframe tbody tr th:only-of-type {\n",
              "        vertical-align: middle;\n",
              "    }\n",
              "\n",
              "    .dataframe tbody tr th {\n",
              "        vertical-align: top;\n",
              "    }\n",
              "\n",
              "    .dataframe thead th {\n",
              "        text-align: right;\n",
              "    }\n",
              "</style>\n",
              "<table border=\"1\" class=\"dataframe\">\n",
              "  <thead>\n",
              "    <tr style=\"text-align: right;\">\n",
              "      <th></th>\n",
              "      <th>count</th>\n",
              "    </tr>\n",
              "    <tr>\n",
              "      <th>label</th>\n",
              "      <th></th>\n",
              "    </tr>\n",
              "  </thead>\n",
              "  <tbody>\n",
              "    <tr>\n",
              "      <th>Ham</th>\n",
              "      <td>102159</td>\n",
              "    </tr>\n",
              "    <tr>\n",
              "      <th>Spam</th>\n",
              "      <td>91691</td>\n",
              "    </tr>\n",
              "  </tbody>\n",
              "</table>\n",
              "</div><br><label><b>dtype:</b> int64</label>"
            ]
          },
          "metadata": {},
          "execution_count": 7
        }
      ]
    },
    {
      "cell_type": "code",
      "source": [
        "# lets see a text for example\n",
        "text=data['text'][10]\n",
        "text"
      ],
      "metadata": {
        "colab": {
          "base_uri": "https://localhost:8080/",
          "height": 139
        },
        "id": "3esplnmT2xch",
        "outputId": "bf0e8ace-eb69-4574-f862-a2a85bedabc0"
      },
      "execution_count": 8,
      "outputs": [
        {
          "output_type": "execute_result",
          "data": {
            "text/plain": [
              "'hey there - - life sounds horribly busy . i figured it was .\\ndon \\' t worry about me - - i just thought we should get things moving - - since\\nnow i have officially been replaced , and it has been announced to my direct\\nreports here in london . fernley ( not sure if you have spoken to him ) is\\nanxious to put an announcement out to enron europe that phillip lord and i\\nare leaving and that melissa will be stepping in to replace us .\\nsince phillip already has a place to go , it would be nice if we could at\\nleast say that i am going to north america energy ops , or something - - even\\nif we don \\' t have all of the details worked out .\\ni am not sure if you want me to come over and meet some of your commercial \"\\ncustomers \" - - - also - i have never met delainey ( i don \\' t think ) - - but\\nmaybe knowing frevert well is enough . i am planning to come in november\\n( first half ) to work on europe \\' s plan and coordinate with brent , wes and the\\nother groups under frevert , so maybe i can meet some people then . would love\\nto discuss\\nmonday is fine - - as i am sure today will be another crazy day .\\ni know how all of those reviews are . john sherriff put a o 5 per review per\\nday penalty on any dept head who didn \\' t have their reviews done by august\\n15 th , and of course i was on holiday the week before that , so i had 2 days to\\ndo 10 reviews .\\nhopefully i can help you with that direct report problem .\\nif i don \\' t talk to you today , then have a good weekend ,\\nbeth\\nenron capital & trade resources corp .\\nfrom : sally beck 13 / 10 / 2000 01 : 19\\nto : beth apollo / lon / ect @ ect\\ncc :\\nsubject : stuff\\ncrazy week - - 7 : 00 pm and i just finished a project for delainey that i got\\nat noon today . cancelled everything on the calendar and have been immersed\\never since . patti gave me your message with your home number around 5 : 30\\ntoday , just as she was leaving - - apologized for not giving it to me\\nearlier . however , given my immediate project , i don \\' t think that i could\\nhave called until now . and at 1 : 00 am london time , i think that this e : mail\\nis much better .\\ni am still really crunched tomorrow morning . all of our mid - year reviews\\nmust be completed by the time we have our ena office of the chair staff\\nmeeting at 2 : 30 tomorrow . big push , after an over percentage completion rate\\nof about 60 % at our ena meeting two weeks ago . some of those unfinished\\nreviews were mine to give ( 16 direct reports is a killer ) . i wrote three\\nlast night after tyler went to bed , finished at 1 : 00 am and gave all three\\nreviews this morning . i have 5 more to write tonight , and to deliver\\ntomorrow morning to be at 100 % . i will try to call you on my way into the\\noffice tomorrow morning from the car . if i miss you then , it will be late\\nafternoon houston time before i could call you . next week shapes up to be\\nmuch better .\\ni am definitely very interested in continuing our conversations . would love\\nto have to over here and involved in operations . so i will either catch you\\nfrom my car tomorrow morning , or we can talk on monday .'"
            ],
            "application/vnd.google.colaboratory.intrinsic+json": {
              "type": "string"
            }
          },
          "metadata": {},
          "execution_count": 8
        }
      ]
    },
    {
      "cell_type": "markdown",
      "source": [
        "#### Our email messages contain a lot of unnecessary characters, which need to be cleaned before further processing"
      ],
      "metadata": {
        "id": "pUcR32GtppsT"
      }
    },
    {
      "cell_type": "code",
      "source": [
        "def clean_text(text):\n",
        "  text=text.lower()\n",
        "  text=re.sub(r'[^A-Za-z0-9\\s]','',text) # reove any extra white spaces\n",
        "  text=' '.join(text.split())\n",
        "  return text"
      ],
      "metadata": {
        "id": "z6-dIJXN24jc"
      },
      "execution_count": 9,
      "outputs": []
    },
    {
      "cell_type": "code",
      "source": [
        "clean_text(text)"
      ],
      "metadata": {
        "colab": {
          "base_uri": "https://localhost:8080/",
          "height": 139
        },
        "id": "zu5NxFAL3xbQ",
        "outputId": "102d2ad0-c9ee-493b-c274-a2ae21ea18ec"
      },
      "execution_count": 10,
      "outputs": [
        {
          "output_type": "execute_result",
          "data": {
            "text/plain": [
              "'hey there life sounds horribly busy i figured it was don t worry about me i just thought we should get things moving since now i have officially been replaced and it has been announced to my direct reports here in london fernley not sure if you have spoken to him is anxious to put an announcement out to enron europe that phillip lord and i are leaving and that melissa will be stepping in to replace us since phillip already has a place to go it would be nice if we could at least say that i am going to north america energy ops or something even if we don t have all of the details worked out i am not sure if you want me to come over and meet some of your commercial customers also i have never met delainey i don t think but maybe knowing frevert well is enough i am planning to come in november first half to work on europe s plan and coordinate with brent wes and the other groups under frevert so maybe i can meet some people then would love to discuss monday is fine as i am sure today will be another crazy day i know how all of those reviews are john sherriff put a o 5 per review per day penalty on any dept head who didn t have their reviews done by august 15 th and of course i was on holiday the week before that so i had 2 days to do 10 reviews hopefully i can help you with that direct report problem if i don t talk to you today then have a good weekend beth enron capital trade resources corp from sally beck 13 10 2000 01 19 to beth apollo lon ect ect cc subject stuff crazy week 7 00 pm and i just finished a project for delainey that i got at noon today cancelled everything on the calendar and have been immersed ever since patti gave me your message with your home number around 5 30 today just as she was leaving apologized for not giving it to me earlier however given my immediate project i don t think that i could have called until now and at 1 00 am london time i think that this e mail is much better i am still really crunched tomorrow morning all of our mid year reviews must be completed by the time we have our ena office of the chair staff meeting at 2 30 tomorrow big push after an over percentage completion rate of about 60 at our ena meeting two weeks ago some of those unfinished reviews were mine to give 16 direct reports is a killer i wrote three last night after tyler went to bed finished at 1 00 am and gave all three reviews this morning i have 5 more to write tonight and to deliver tomorrow morning to be at 100 i will try to call you on my way into the office tomorrow morning from the car if i miss you then it will be late afternoon houston time before i could call you next week shapes up to be much better i am definitely very interested in continuing our conversations would love to have to over here and involved in operations so i will either catch you from my car tomorrow morning or we can talk on monday'"
            ],
            "application/vnd.google.colaboratory.intrinsic+json": {
              "type": "string"
            }
          },
          "metadata": {},
          "execution_count": 10
        }
      ]
    },
    {
      "cell_type": "code",
      "source": [
        "data['text']=data['text'].apply(clean_text)  #cleaned the text"
      ],
      "metadata": {
        "id": "rYvE523G_Hxg"
      },
      "execution_count": 11,
      "outputs": []
    },
    {
      "cell_type": "code",
      "source": [
        "# lets map the target label Ham:0, Spame:1\n",
        "data['label']=data['label'].map({'Ham':0,'Spam':1})"
      ],
      "metadata": {
        "id": "DZiMOy7ZxxdY"
      },
      "execution_count": 12,
      "outputs": []
    },
    {
      "cell_type": "code",
      "source": [
        "print(f\"Numbers of class 0 : {sum(data['label']==0),} and % {sum(data['label']==0)/(sum(data['label']==0)+sum(data['label']==1))*100:.2f}%\")\n",
        "\n",
        "print(f\"Numbers of class 1 : {sum(data['label']==1),} and % {sum(data['label']==1)/(sum(data['label']==0)+sum(data['label']==1))*100:.2f}%\")"
      ],
      "metadata": {
        "colab": {
          "base_uri": "https://localhost:8080/"
        },
        "id": "wKyFmr9t72OA",
        "outputId": "f0626804-8b5b-4527-dccb-9d91af003634"
      },
      "execution_count": 13,
      "outputs": [
        {
          "output_type": "stream",
          "name": "stdout",
          "text": [
            "Numbers of class 0 : (102159,) and % 52.70%\n",
            "Numbers of class 1 : (91691,) and % 47.30%\n"
          ]
        }
      ]
    },
    {
      "cell_type": "code",
      "source": [
        "# we can clearly see our dataset is not imbalanced...."
      ],
      "metadata": {
        "id": "pjaO2M69zl5j"
      },
      "execution_count": 58,
      "outputs": []
    },
    {
      "cell_type": "code",
      "source": [
        "data.head()"
      ],
      "metadata": {
        "colab": {
          "base_uri": "https://localhost:8080/",
          "height": 206
        },
        "id": "zMdBnuz5_yly",
        "outputId": "b93078c6-bb3e-4fdf-d36d-20aeeb4d2f62"
      },
      "execution_count": 14,
      "outputs": [
        {
          "output_type": "execute_result",
          "data": {
            "text/plain": [
              "   label                                               text\n",
              "0      1  viiiiiiagraaaa only for the ones that want to ...\n",
              "1      0  got ice thought look az original message ice o...\n",
              "2      1  yo ur wom an ne eds an escapenumber in ch ma n...\n",
              "3      1  start increasing your odds of success live sex...\n",
              "4      0  author jra date escapenumber escapenumber esca..."
            ],
            "text/html": [
              "\n",
              "  <div id=\"df-66100b18-1660-4bd6-8c57-14d01e57fc31\" class=\"colab-df-container\">\n",
              "    <div>\n",
              "<style scoped>\n",
              "    .dataframe tbody tr th:only-of-type {\n",
              "        vertical-align: middle;\n",
              "    }\n",
              "\n",
              "    .dataframe tbody tr th {\n",
              "        vertical-align: top;\n",
              "    }\n",
              "\n",
              "    .dataframe thead th {\n",
              "        text-align: right;\n",
              "    }\n",
              "</style>\n",
              "<table border=\"1\" class=\"dataframe\">\n",
              "  <thead>\n",
              "    <tr style=\"text-align: right;\">\n",
              "      <th></th>\n",
              "      <th>label</th>\n",
              "      <th>text</th>\n",
              "    </tr>\n",
              "  </thead>\n",
              "  <tbody>\n",
              "    <tr>\n",
              "      <th>0</th>\n",
              "      <td>1</td>\n",
              "      <td>viiiiiiagraaaa only for the ones that want to ...</td>\n",
              "    </tr>\n",
              "    <tr>\n",
              "      <th>1</th>\n",
              "      <td>0</td>\n",
              "      <td>got ice thought look az original message ice o...</td>\n",
              "    </tr>\n",
              "    <tr>\n",
              "      <th>2</th>\n",
              "      <td>1</td>\n",
              "      <td>yo ur wom an ne eds an escapenumber in ch ma n...</td>\n",
              "    </tr>\n",
              "    <tr>\n",
              "      <th>3</th>\n",
              "      <td>1</td>\n",
              "      <td>start increasing your odds of success live sex...</td>\n",
              "    </tr>\n",
              "    <tr>\n",
              "      <th>4</th>\n",
              "      <td>0</td>\n",
              "      <td>author jra date escapenumber escapenumber esca...</td>\n",
              "    </tr>\n",
              "  </tbody>\n",
              "</table>\n",
              "</div>\n",
              "    <div class=\"colab-df-buttons\">\n",
              "\n",
              "  <div class=\"colab-df-container\">\n",
              "    <button class=\"colab-df-convert\" onclick=\"convertToInteractive('df-66100b18-1660-4bd6-8c57-14d01e57fc31')\"\n",
              "            title=\"Convert this dataframe to an interactive table.\"\n",
              "            style=\"display:none;\">\n",
              "\n",
              "  <svg xmlns=\"http://www.w3.org/2000/svg\" height=\"24px\" viewBox=\"0 -960 960 960\">\n",
              "    <path d=\"M120-120v-720h720v720H120Zm60-500h600v-160H180v160Zm220 220h160v-160H400v160Zm0 220h160v-160H400v160ZM180-400h160v-160H180v160Zm440 0h160v-160H620v160ZM180-180h160v-160H180v160Zm440 0h160v-160H620v160Z\"/>\n",
              "  </svg>\n",
              "    </button>\n",
              "\n",
              "  <style>\n",
              "    .colab-df-container {\n",
              "      display:flex;\n",
              "      gap: 12px;\n",
              "    }\n",
              "\n",
              "    .colab-df-convert {\n",
              "      background-color: #E8F0FE;\n",
              "      border: none;\n",
              "      border-radius: 50%;\n",
              "      cursor: pointer;\n",
              "      display: none;\n",
              "      fill: #1967D2;\n",
              "      height: 32px;\n",
              "      padding: 0 0 0 0;\n",
              "      width: 32px;\n",
              "    }\n",
              "\n",
              "    .colab-df-convert:hover {\n",
              "      background-color: #E2EBFA;\n",
              "      box-shadow: 0px 1px 2px rgba(60, 64, 67, 0.3), 0px 1px 3px 1px rgba(60, 64, 67, 0.15);\n",
              "      fill: #174EA6;\n",
              "    }\n",
              "\n",
              "    .colab-df-buttons div {\n",
              "      margin-bottom: 4px;\n",
              "    }\n",
              "\n",
              "    [theme=dark] .colab-df-convert {\n",
              "      background-color: #3B4455;\n",
              "      fill: #D2E3FC;\n",
              "    }\n",
              "\n",
              "    [theme=dark] .colab-df-convert:hover {\n",
              "      background-color: #434B5C;\n",
              "      box-shadow: 0px 1px 3px 1px rgba(0, 0, 0, 0.15);\n",
              "      filter: drop-shadow(0px 1px 2px rgba(0, 0, 0, 0.3));\n",
              "      fill: #FFFFFF;\n",
              "    }\n",
              "  </style>\n",
              "\n",
              "    <script>\n",
              "      const buttonEl =\n",
              "        document.querySelector('#df-66100b18-1660-4bd6-8c57-14d01e57fc31 button.colab-df-convert');\n",
              "      buttonEl.style.display =\n",
              "        google.colab.kernel.accessAllowed ? 'block' : 'none';\n",
              "\n",
              "      async function convertToInteractive(key) {\n",
              "        const element = document.querySelector('#df-66100b18-1660-4bd6-8c57-14d01e57fc31');\n",
              "        const dataTable =\n",
              "          await google.colab.kernel.invokeFunction('convertToInteractive',\n",
              "                                                    [key], {});\n",
              "        if (!dataTable) return;\n",
              "\n",
              "        const docLinkHtml = 'Like what you see? Visit the ' +\n",
              "          '<a target=\"_blank\" href=https://colab.research.google.com/notebooks/data_table.ipynb>data table notebook</a>'\n",
              "          + ' to learn more about interactive tables.';\n",
              "        element.innerHTML = '';\n",
              "        dataTable['output_type'] = 'display_data';\n",
              "        await google.colab.output.renderOutput(dataTable, element);\n",
              "        const docLink = document.createElement('div');\n",
              "        docLink.innerHTML = docLinkHtml;\n",
              "        element.appendChild(docLink);\n",
              "      }\n",
              "    </script>\n",
              "  </div>\n",
              "\n",
              "\n",
              "    <div id=\"df-b48c0b73-7894-4f8f-aa46-c5d9e6268c8c\">\n",
              "      <button class=\"colab-df-quickchart\" onclick=\"quickchart('df-b48c0b73-7894-4f8f-aa46-c5d9e6268c8c')\"\n",
              "                title=\"Suggest charts\"\n",
              "                style=\"display:none;\">\n",
              "\n",
              "<svg xmlns=\"http://www.w3.org/2000/svg\" height=\"24px\"viewBox=\"0 0 24 24\"\n",
              "     width=\"24px\">\n",
              "    <g>\n",
              "        <path d=\"M19 3H5c-1.1 0-2 .9-2 2v14c0 1.1.9 2 2 2h14c1.1 0 2-.9 2-2V5c0-1.1-.9-2-2-2zM9 17H7v-7h2v7zm4 0h-2V7h2v10zm4 0h-2v-4h2v4z\"/>\n",
              "    </g>\n",
              "</svg>\n",
              "      </button>\n",
              "\n",
              "<style>\n",
              "  .colab-df-quickchart {\n",
              "      --bg-color: #E8F0FE;\n",
              "      --fill-color: #1967D2;\n",
              "      --hover-bg-color: #E2EBFA;\n",
              "      --hover-fill-color: #174EA6;\n",
              "      --disabled-fill-color: #AAA;\n",
              "      --disabled-bg-color: #DDD;\n",
              "  }\n",
              "\n",
              "  [theme=dark] .colab-df-quickchart {\n",
              "      --bg-color: #3B4455;\n",
              "      --fill-color: #D2E3FC;\n",
              "      --hover-bg-color: #434B5C;\n",
              "      --hover-fill-color: #FFFFFF;\n",
              "      --disabled-bg-color: #3B4455;\n",
              "      --disabled-fill-color: #666;\n",
              "  }\n",
              "\n",
              "  .colab-df-quickchart {\n",
              "    background-color: var(--bg-color);\n",
              "    border: none;\n",
              "    border-radius: 50%;\n",
              "    cursor: pointer;\n",
              "    display: none;\n",
              "    fill: var(--fill-color);\n",
              "    height: 32px;\n",
              "    padding: 0;\n",
              "    width: 32px;\n",
              "  }\n",
              "\n",
              "  .colab-df-quickchart:hover {\n",
              "    background-color: var(--hover-bg-color);\n",
              "    box-shadow: 0 1px 2px rgba(60, 64, 67, 0.3), 0 1px 3px 1px rgba(60, 64, 67, 0.15);\n",
              "    fill: var(--button-hover-fill-color);\n",
              "  }\n",
              "\n",
              "  .colab-df-quickchart-complete:disabled,\n",
              "  .colab-df-quickchart-complete:disabled:hover {\n",
              "    background-color: var(--disabled-bg-color);\n",
              "    fill: var(--disabled-fill-color);\n",
              "    box-shadow: none;\n",
              "  }\n",
              "\n",
              "  .colab-df-spinner {\n",
              "    border: 2px solid var(--fill-color);\n",
              "    border-color: transparent;\n",
              "    border-bottom-color: var(--fill-color);\n",
              "    animation:\n",
              "      spin 1s steps(1) infinite;\n",
              "  }\n",
              "\n",
              "  @keyframes spin {\n",
              "    0% {\n",
              "      border-color: transparent;\n",
              "      border-bottom-color: var(--fill-color);\n",
              "      border-left-color: var(--fill-color);\n",
              "    }\n",
              "    20% {\n",
              "      border-color: transparent;\n",
              "      border-left-color: var(--fill-color);\n",
              "      border-top-color: var(--fill-color);\n",
              "    }\n",
              "    30% {\n",
              "      border-color: transparent;\n",
              "      border-left-color: var(--fill-color);\n",
              "      border-top-color: var(--fill-color);\n",
              "      border-right-color: var(--fill-color);\n",
              "    }\n",
              "    40% {\n",
              "      border-color: transparent;\n",
              "      border-right-color: var(--fill-color);\n",
              "      border-top-color: var(--fill-color);\n",
              "    }\n",
              "    60% {\n",
              "      border-color: transparent;\n",
              "      border-right-color: var(--fill-color);\n",
              "    }\n",
              "    80% {\n",
              "      border-color: transparent;\n",
              "      border-right-color: var(--fill-color);\n",
              "      border-bottom-color: var(--fill-color);\n",
              "    }\n",
              "    90% {\n",
              "      border-color: transparent;\n",
              "      border-bottom-color: var(--fill-color);\n",
              "    }\n",
              "  }\n",
              "</style>\n",
              "\n",
              "      <script>\n",
              "        async function quickchart(key) {\n",
              "          const quickchartButtonEl =\n",
              "            document.querySelector('#' + key + ' button');\n",
              "          quickchartButtonEl.disabled = true;  // To prevent multiple clicks.\n",
              "          quickchartButtonEl.classList.add('colab-df-spinner');\n",
              "          try {\n",
              "            const charts = await google.colab.kernel.invokeFunction(\n",
              "                'suggestCharts', [key], {});\n",
              "          } catch (error) {\n",
              "            console.error('Error during call to suggestCharts:', error);\n",
              "          }\n",
              "          quickchartButtonEl.classList.remove('colab-df-spinner');\n",
              "          quickchartButtonEl.classList.add('colab-df-quickchart-complete');\n",
              "        }\n",
              "        (() => {\n",
              "          let quickchartButtonEl =\n",
              "            document.querySelector('#df-b48c0b73-7894-4f8f-aa46-c5d9e6268c8c button');\n",
              "          quickchartButtonEl.style.display =\n",
              "            google.colab.kernel.accessAllowed ? 'block' : 'none';\n",
              "        })();\n",
              "      </script>\n",
              "    </div>\n",
              "\n",
              "    </div>\n",
              "  </div>\n"
            ],
            "application/vnd.google.colaboratory.intrinsic+json": {
              "type": "dataframe",
              "variable_name": "data"
            }
          },
          "metadata": {},
          "execution_count": 14
        }
      ]
    },
    {
      "cell_type": "code",
      "source": [
        "import tensorflow\n",
        "from  tensorflow.keras.models import Sequential, load_model\n",
        "from tensorflow.keras.layers import SimpleRNN, LSTM, Embedding, Dense, Dropout\n",
        "from tensorflow.keras.preprocessing.text import Tokenizer\n",
        "from tensorflow.keras.preprocessing.sequence import pad_sequences"
      ],
      "metadata": {
        "id": "J2I6YrvQ_0-_"
      },
      "execution_count": 15,
      "outputs": []
    },
    {
      "cell_type": "code",
      "source": [
        "x=data['text']\n",
        "y=data['label']"
      ],
      "metadata": {
        "id": "EmujD-srAhYu"
      },
      "execution_count": 16,
      "outputs": []
    },
    {
      "cell_type": "code",
      "source": [
        "max_words=10000 # no of words in vocab\n",
        "max_len=100 # max sentence length"
      ],
      "metadata": {
        "id": "S4PafHNnA17J"
      },
      "execution_count": 17,
      "outputs": []
    },
    {
      "cell_type": "code",
      "source": [
        "tokenizer=Tokenizer(num_words=max_words,oov_token='<OOV>')\n",
        "tokenizer.fit_on_texts(x)  # build vocab\n",
        "x_sequences=tokenizer.texts_to_sequences(x)\n",
        "print(x_sequences[0][:20])\n",
        "x_padded=pad_sequences(x_sequences,maxlen=max_len,padding='post',truncating='post')\n",
        "print(x_padded[0][:20])"
      ],
      "metadata": {
        "colab": {
          "base_uri": "https://localhost:8080/"
        },
        "id": "3jUo26v3Ayn6",
        "outputId": "777684c8-db1e-4f2a-9dce-20458229aed1"
      },
      "execution_count": 18,
      "outputs": [
        {
          "output_type": "stream",
          "name": "stdout",
          "text": [
            "[1, 122, 10, 3, 1775, 16, 143, 4, 115, 344, 1, 1, 1, 1, 1923, 3815, 1, 1, 1, 1]\n",
            "[   1  122   10    3 1775   16  143    4  115  344    1    1    1    1\n",
            " 1923 3815    1    1    1    1]\n"
          ]
        }
      ]
    },
    {
      "cell_type": "code",
      "source": [
        "from sklearn.model_selection import train_test_split"
      ],
      "metadata": {
        "id": "p76rMbDjDi1m"
      },
      "execution_count": 19,
      "outputs": []
    },
    {
      "cell_type": "code",
      "source": [
        "# lets divide into train and test\n",
        "x_train, x_test, y_train, y_test=train_test_split(x_padded,y,test_size=0.2,random_state=42,stratify=y)"
      ],
      "metadata": {
        "id": "7BwW1seTDX91"
      },
      "execution_count": 20,
      "outputs": []
    },
    {
      "cell_type": "code",
      "source": [
        "def create_rnn_model():\n",
        "  model=Sequential([\n",
        "      # embedding layer\n",
        "      Embedding(input_dim=max_words,output_dim=128),\n",
        "      # rnn layer\n",
        "      SimpleRNN(units=64,return_sequences=False),\n",
        "\n",
        "      # dropout layer\n",
        "\n",
        "      Dropout(rate=0.5),\n",
        "\n",
        "      # dense layer\n",
        "      Dense(64,activation='relu'),\n",
        "\n",
        "      Dense(1,activation='sigmoid') ])\n",
        "\n",
        "\n",
        "  model.compile(loss='binary_crossentropy',optimizer='adam',metrics=['accuracy'])\n",
        "  return model"
      ],
      "metadata": {
        "id": "I1XRhcRbBvrZ"
      },
      "execution_count": 21,
      "outputs": []
    },
    {
      "cell_type": "code",
      "source": [
        "rnn_model=create_rnn_model()"
      ],
      "metadata": {
        "id": "80q3FawPEXlp"
      },
      "execution_count": 22,
      "outputs": []
    },
    {
      "cell_type": "code",
      "source": [
        "from tensorflow.keras.callbacks import EarlyStopping\n",
        "early_stopping=EarlyStopping(patience=5,restore_best_weights=True,monitor='val_loss')\n",
        "lr_decay=tensorflow.keras.callbacks.ReduceLROnPlateau(monitor='val_loss',factor=0.1,patience=3)"
      ],
      "metadata": {
        "id": "JwE0C11BFZjK"
      },
      "execution_count": 23,
      "outputs": []
    },
    {
      "cell_type": "code",
      "source": [
        "rnn_history=rnn_model.fit(x_train,y_train,epochs=50,validation_data=(x_test,y_test),callbacks=[early_stopping,lr_decay],batch_size=128)"
      ],
      "metadata": {
        "colab": {
          "base_uri": "https://localhost:8080/"
        },
        "id": "NqLoIiYjEvC2",
        "outputId": "fc4de1ac-7128-4983-f76d-bbd3fce76559"
      },
      "execution_count": 24,
      "outputs": [
        {
          "output_type": "stream",
          "name": "stdout",
          "text": [
            "Epoch 1/50\n",
            "\u001b[1m1212/1212\u001b[0m \u001b[32m━━━━━━━━━━━━━━━━━━━━\u001b[0m\u001b[37m\u001b[0m \u001b[1m21s\u001b[0m 13ms/step - accuracy: 0.8413 - loss: 0.3295 - val_accuracy: 0.9698 - val_loss: 0.0958 - learning_rate: 0.0010\n",
            "Epoch 2/50\n",
            "\u001b[1m1212/1212\u001b[0m \u001b[32m━━━━━━━━━━━━━━━━━━━━\u001b[0m\u001b[37m\u001b[0m \u001b[1m13s\u001b[0m 11ms/step - accuracy: 0.9684 - loss: 0.0958 - val_accuracy: 0.9764 - val_loss: 0.0714 - learning_rate: 0.0010\n",
            "Epoch 3/50\n",
            "\u001b[1m1212/1212\u001b[0m \u001b[32m━━━━━━━━━━━━━━━━━━━━\u001b[0m\u001b[37m\u001b[0m \u001b[1m13s\u001b[0m 11ms/step - accuracy: 0.9828 - loss: 0.0555 - val_accuracy: 0.9765 - val_loss: 0.0787 - learning_rate: 0.0010\n",
            "Epoch 4/50\n",
            "\u001b[1m1212/1212\u001b[0m \u001b[32m━━━━━━━━━━━━━━━━━━━━\u001b[0m\u001b[37m\u001b[0m \u001b[1m13s\u001b[0m 11ms/step - accuracy: 0.9515 - loss: 0.1109 - val_accuracy: 0.7408 - val_loss: 0.4655 - learning_rate: 0.0010\n",
            "Epoch 5/50\n",
            "\u001b[1m1212/1212\u001b[0m \u001b[32m━━━━━━━━━━━━━━━━━━━━\u001b[0m\u001b[37m\u001b[0m \u001b[1m21s\u001b[0m 11ms/step - accuracy: 0.7228 - loss: 0.4708 - val_accuracy: 0.9567 - val_loss: 0.1188 - learning_rate: 0.0010\n",
            "Epoch 6/50\n",
            "\u001b[1m1212/1212\u001b[0m \u001b[32m━━━━━━━━━━━━━━━━━━━━\u001b[0m\u001b[37m\u001b[0m \u001b[1m13s\u001b[0m 11ms/step - accuracy: 0.9734 - loss: 0.0809 - val_accuracy: 0.9679 - val_loss: 0.0979 - learning_rate: 1.0000e-04\n",
            "Epoch 7/50\n",
            "\u001b[1m1212/1212\u001b[0m \u001b[32m━━━━━━━━━━━━━━━━━━━━\u001b[0m\u001b[37m\u001b[0m \u001b[1m21s\u001b[0m 11ms/step - accuracy: 0.9807 - loss: 0.0613 - val_accuracy: 0.9713 - val_loss: 0.0915 - learning_rate: 1.0000e-04\n"
          ]
        }
      ]
    },
    {
      "cell_type": "code",
      "source": [
        "plt.plot(figsize=(10,7))\n",
        "plt.plot(rnn_history.history['accuracy'],label='Trainin Acc')\n",
        "plt.plot(rnn_history.history['val_accuracy'],label='Validation Acc')\n",
        "plt.legend()\n",
        "plt.grid(True)\n",
        "plt.xlabel('epochs')\n",
        "plt.ylabel('accuracy')\n",
        "plt.show()"
      ],
      "metadata": {
        "colab": {
          "base_uri": "https://localhost:8080/",
          "height": 449
        },
        "id": "3j12tjy9GO-Q",
        "outputId": "e951559b-a4ec-454d-970e-a494fbf79591"
      },
      "execution_count": 25,
      "outputs": [
        {
          "output_type": "display_data",
          "data": {
            "text/plain": [
              "<Figure size 640x480 with 1 Axes>"
            ],
            "image/png": "[encoded data removed]"
          },
          "metadata": {}
        }
      ]
    },
    {
      "cell_type": "code",
      "source": [
        "plt.plot(figsize=(10,7))\n",
        "plt.plot(rnn_history.history['loss'],label='Trainin loss')\n",
        "plt.plot(rnn_history.history['val_accuracy'],label='Validation loss')\n",
        "plt.legend()\n",
        "plt.grid(True)\n",
        "plt.xlabel('epochs')\n",
        "plt.ylabel('loss')\n",
        "plt.show()"
      ],
      "metadata": {
        "colab": {
          "base_uri": "https://localhost:8080/",
          "height": 449
        },
        "id": "eZiPs_2fG0ZU",
        "outputId": "25ecd5c8-46ea-430e-80a0-0fbea2e12599"
      },
      "execution_count": 26,
      "outputs": [
        {
          "output_type": "display_data",
          "data": {
            "text/plain": [
              "<Figure size 640x480 with 1 Axes>"
            ],
            "image/png": "[encoded data removed]"
          },
          "metadata": {}
        }
      ]
    },
    {
      "cell_type": "markdown",
      "source": [
        "#### We can clearly see that our RNN model is not performing well, as its accuracy does not improve and loss does not decrease over the training epochs. Let's try using an LSTM."
      ],
      "metadata": {
        "id": "wRgZ6GFaqtlW"
      }
    },
    {
      "cell_type": "code",
      "source": [
        "def create_lstm_model():\n",
        "  model=Sequential([\n",
        "      # embedding layer\n",
        "      Embedding(input_dim=max_words,output_dim=128),\n",
        "      # rnn layer\n",
        "      LSTM(units=128,return_sequences=False),\n",
        "\n",
        "      # dropout layer\n",
        "\n",
        "      Dropout(rate=0.5),\n",
        "\n",
        "      # dense layer\n",
        "      Dense(64,activation='relu'),\n",
        "\n",
        "      Dense(1,activation='sigmoid') ])\n",
        "\n",
        "\n",
        "  model.compile(loss='binary_crossentropy',optimizer='adam',metrics=['accuracy'])\n",
        "  return model"
      ],
      "metadata": {
        "id": "_p_fDDcUGvYf"
      },
      "execution_count": 27,
      "outputs": []
    },
    {
      "cell_type": "code",
      "source": [
        "lstm_model=create_lstm_model()\n",
        "lstm_history=lstm_model.fit(x_train,y_train,epochs=50,validation_data=(x_test,y_test),callbacks=[early_stopping,lr_decay],batch_size=128)"
      ],
      "metadata": {
        "colab": {
          "base_uri": "https://localhost:8080/"
        },
        "id": "Mrm0CvEJG-aC",
        "outputId": "c58ce689-c95e-473b-dcfb-6b6d1ea3c5c1"
      },
      "execution_count": 28,
      "outputs": [
        {
          "output_type": "stream",
          "name": "stdout",
          "text": [
            "Epoch 1/50\n",
            "\u001b[1m1212/1212\u001b[0m \u001b[32m━━━━━━━━━━━━━━━━━━━━\u001b[0m\u001b[37m\u001b[0m \u001b[1m20s\u001b[0m 12ms/step - accuracy: 0.7933 - loss: 0.4603 - val_accuracy: 0.8700 - val_loss: 0.3177 - learning_rate: 0.0010\n",
            "Epoch 2/50\n",
            "\u001b[1m1212/1212\u001b[0m \u001b[32m━━━━━━━━━━━━━━━━━━━━\u001b[0m\u001b[37m\u001b[0m \u001b[1m16s\u001b[0m 12ms/step - accuracy: 0.9184 - loss: 0.2194 - val_accuracy: 0.9082 - val_loss: 0.2943 - learning_rate: 0.0010\n",
            "Epoch 3/50\n",
            "\u001b[1m1212/1212\u001b[0m \u001b[32m━━━━━━━━━━━━━━━━━━━━\u001b[0m\u001b[37m\u001b[0m \u001b[1m21s\u001b[0m 12ms/step - accuracy: 0.9540 - loss: 0.1412 - val_accuracy: 0.9665 - val_loss: 0.0955 - learning_rate: 0.0010\n",
            "Epoch 4/50\n",
            "\u001b[1m1212/1212\u001b[0m \u001b[32m━━━━━━━━━━━━━━━━━━━━\u001b[0m\u001b[37m\u001b[0m \u001b[1m22s\u001b[0m 13ms/step - accuracy: 0.9787 - loss: 0.0693 - val_accuracy: 0.9759 - val_loss: 0.0764 - learning_rate: 0.0010\n",
            "Epoch 5/50\n",
            "\u001b[1m1212/1212\u001b[0m \u001b[32m━━━━━━━━━━━━━━━━━━━━\u001b[0m\u001b[37m\u001b[0m \u001b[1m19s\u001b[0m 12ms/step - accuracy: 0.9863 - loss: 0.0472 - val_accuracy: 0.9786 - val_loss: 0.0679 - learning_rate: 0.0010\n",
            "Epoch 6/50\n",
            "\u001b[1m1212/1212\u001b[0m \u001b[32m━━━━━━━━━━━━━━━━━━━━\u001b[0m\u001b[37m\u001b[0m \u001b[1m15s\u001b[0m 13ms/step - accuracy: 0.9906 - loss: 0.0335 - val_accuracy: 0.9788 - val_loss: 0.0650 - learning_rate: 0.0010\n",
            "Epoch 7/50\n",
            "\u001b[1m1212/1212\u001b[0m \u001b[32m━━━━━━━━━━━━━━━━━━━━\u001b[0m\u001b[37m\u001b[0m \u001b[1m20s\u001b[0m 12ms/step - accuracy: 0.9932 - loss: 0.0251 - val_accuracy: 0.9800 - val_loss: 0.0679 - learning_rate: 0.0010\n",
            "Epoch 8/50\n",
            "\u001b[1m1212/1212\u001b[0m \u001b[32m━━━━━━━━━━━━━━━━━━━━\u001b[0m\u001b[37m\u001b[0m \u001b[1m20s\u001b[0m 12ms/step - accuracy: 0.9951 - loss: 0.0176 - val_accuracy: 0.9807 - val_loss: 0.0709 - learning_rate: 0.0010\n",
            "Epoch 9/50\n",
            "\u001b[1m1212/1212\u001b[0m \u001b[32m━━━━━━━━━━━━━━━━━━━━\u001b[0m\u001b[37m\u001b[0m \u001b[1m15s\u001b[0m 13ms/step - accuracy: 0.9962 - loss: 0.0140 - val_accuracy: 0.9808 - val_loss: 0.0839 - learning_rate: 0.0010\n",
            "Epoch 10/50\n",
            "\u001b[1m1212/1212\u001b[0m \u001b[32m━━━━━━━━━━━━━━━━━━━━\u001b[0m\u001b[37m\u001b[0m \u001b[1m19s\u001b[0m 12ms/step - accuracy: 0.9976 - loss: 0.0088 - val_accuracy: 0.9811 - val_loss: 0.0865 - learning_rate: 1.0000e-04\n",
            "Epoch 11/50\n",
            "\u001b[1m1212/1212\u001b[0m \u001b[32m━━━━━━━━━━━━━━━━━━━━\u001b[0m\u001b[37m\u001b[0m \u001b[1m14s\u001b[0m 12ms/step - accuracy: 0.9987 - loss: 0.0062 - val_accuracy: 0.9810 - val_loss: 0.1012 - learning_rate: 1.0000e-04\n"
          ]
        }
      ]
    },
    {
      "cell_type": "code",
      "source": [
        "plt.plot(figsize=(10,7))\n",
        "plt.plot(lstm_history.history['accuracy'],label='Trainin Acc')\n",
        "plt.plot(lstm_history.history['val_accuracy'],label='Validation Acc')\n",
        "plt.legend()\n",
        "plt.grid(True)\n",
        "plt.xlabel('epochs')\n",
        "plt.ylabel('accuracy')\n",
        "plt.show()"
      ],
      "metadata": {
        "colab": {
          "base_uri": "https://localhost:8080/",
          "height": 449
        },
        "id": "Rysg7pdBHJxB",
        "outputId": "8a4f44e9-250d-4fc9-89a8-6b4705d98dd2"
      },
      "execution_count": 29,
      "outputs": [
        {
          "output_type": "display_data",
          "data": {
            "text/plain": [
              "<Figure size 640x480 with 1 Axes>"
            ],
            "image/png": "[encoded data removed]"
          },
          "metadata": {}
        }
      ]
    },
    {
      "cell_type": "code",
      "source": [
        "plt.plot(figsize=(10,7))\n",
        "plt.plot(lstm_history.history['loss'],label='Trainin loss')\n",
        "plt.plot(lstm_history.history['val_loss'],label='Validation loss')\n",
        "plt.legend()\n",
        "plt.grid(True)\n",
        "plt.xlabel('epochs')\n",
        "plt.ylabel('loss')\n",
        "plt.show()"
      ],
      "metadata": {
        "colab": {
          "base_uri": "https://localhost:8080/",
          "height": 449
        },
        "id": "s17BNuKjIfqH",
        "outputId": "4dbde82c-e0a9-43db-b27b-7737976fb4c7"
      },
      "execution_count": 30,
      "outputs": [
        {
          "output_type": "display_data",
          "data": {
            "text/plain": [
              "<Figure size 640x480 with 1 Axes>"
            ],
            "image/png": "[encoded data removed]"
          },
          "metadata": {}
        }
      ]
    },
    {
      "cell_type": "code",
      "source": [
        "test_loss,test_acc=lstm_model.evaluate(x_test,y_test)\n",
        "print(f\"Test accuracy : {test_acc*100:.2f}%\")"
      ],
      "metadata": {
        "colab": {
          "base_uri": "https://localhost:8080/"
        },
        "id": "4WwDYY3fw1BR",
        "outputId": "9dbaf45b-b5a3-4552-d643-d9f064747d91"
      },
      "execution_count": 35,
      "outputs": [
        {
          "output_type": "stream",
          "name": "stdout",
          "text": [
            "\u001b[1m1212/1212\u001b[0m \u001b[32m━━━━━━━━━━━━━━━━━━━━\u001b[0m\u001b[37m\u001b[0m \u001b[1m6s\u001b[0m 5ms/step - accuracy: 0.9787 - loss: 0.0641\n",
            "Test accuracy : 97.88%\n"
          ]
        }
      ]
    },
    {
      "cell_type": "markdown",
      "source": [
        "#### As we can see, the LSTM model’s accuracy has increased and its loss has decreased over thr epochs, indicating better performance. The graph also clearly shows that it is performing better than the RNN."
      ],
      "metadata": {
        "id": "SDbM-iF3rEnw"
      }
    },
    {
      "cell_type": "code",
      "source": [
        "lstm_model.save('lstm_spam_detection_model.keras') # save the lstm model"
      ],
      "metadata": {
        "id": "B0Fw9ycNIsJZ"
      },
      "execution_count": 31,
      "outputs": []
    },
    {
      "cell_type": "code",
      "source": [
        "import tensorflow as tf\n",
        "loaded_model=tf.keras.models.load_model('lstm_spam_detection_model.keras')"
      ],
      "metadata": {
        "id": "26H2R4SgIyJi"
      },
      "execution_count": 32,
      "outputs": []
    },
    {
      "cell_type": "code",
      "source": [
        "import pickle # save the tokenizer\n",
        "\n",
        "with open(\"spam_model_tokenizer.pkl\",'wb') as f:\n",
        "    pickle.dump(tokenizer, f)\n",
        "with open(\"spam_model_tokenizer.pkl\", 'rb') as f:\n",
        "  loaded_tokenizer = pickle.load(f)"
      ],
      "metadata": {
        "id": "zXuVTfidI09m"
      },
      "execution_count": 33,
      "outputs": []
    },
    {
      "cell_type": "markdown",
      "source": [
        "#### let's take some example and see how our model is performing..."
      ],
      "metadata": {
        "id": "kAweUXiLrsd8"
      }
    },
    {
      "cell_type": "code",
      "source": [
        "spam_emails = [\n",
        "    \"Subject: Urgent: Verify Your Account Today\\n\\nDear Customer,\\nWe noticed unusual activity in your account. Please login immediately via the secure link below to avoid suspension: http://secure-bank-login.verify-now.com\\nFailure to do so may result in permanent account closure.\\nRegards, Bank Security Team\",\n",
        "\n",
        "    \"Subject: Congratulations! You’ve been shortlisted!\\n\\nDear Applicant,\\nYour profile matches our requirements. To secure your high-paying remote position (₹10-15 LPA), provide your bank account and Aadhaar details immediately. Limited slots available!\\nBest, HR Team\",\n",
        "\n",
        "    \"Subject: Unlock your prize now!\\n\\nYou have won a $5000 gift card! Click the link to claim: http://fakeprizes.com/win-now. Hurry, offer expires soon!\",\n",
        "\n",
        "    \"Subject: Final Notice: Tax Refund Pending\\n\\nDear Taxpayer,\\nOur records show you have a pending refund. Submit your personal and banking information here: http://tax-refund-online.com before 24 hours to get your refund.\",\n",
        "\n",
        "    \"Subject: Limited Offer: Get Paid Work from Home\\n\\nEarn ₹50,000/week from your home. No experience required. Sign up here: http://easy-income.com/apply-now\"\n",
        "]\n"
      ],
      "metadata": {
        "id": "PanEasrgMLAB"
      },
      "execution_count": 48,
      "outputs": []
    },
    {
      "cell_type": "code",
      "source": [
        "def predict_senteces(sent):\n",
        "  sent=clean_text(sent)\n",
        "  sequence=loaded_tokenizer.texts_to_sequences([sent])\n",
        "  padding=pad_sequences(sequence,maxlen=max_len,padding='post',truncating='post')\n",
        "  prediction=loaded_model.predict(padding)\n",
        "  pred_class=1 if prediction>0.5 else 0\n",
        "  if pred_class==1:\n",
        "    return 'Spam'\n",
        "  else:\n",
        "    return 'Non Spam'"
      ],
      "metadata": {
        "id": "OLQR1ehb36N6"
      },
      "execution_count": 49,
      "outputs": []
    },
    {
      "cell_type": "code",
      "source": [
        "for sent in spam_emails:\n",
        "  result=predict_senteces(sent)\n",
        "  print(f\"Sentence : {sent}\\nPrediction : {result}\\n\")"
      ],
      "metadata": {
        "colab": {
          "base_uri": "https://localhost:8080/"
        },
        "id": "9N4EiAKKLjNc",
        "outputId": "0607dd27-f38a-48bf-d370-2b5abee73fde"
      },
      "execution_count": 50,
      "outputs": [
        {
          "output_type": "stream",
          "name": "stdout",
          "text": [
            "\u001b[1m1/1\u001b[0m \u001b[32m━━━━━━━━━━━━━━━━━━━━\u001b[0m\u001b[37m\u001b[0m \u001b[1m0s\u001b[0m 29ms/step\n",
            "Sentence : Subject: Urgent: Verify Your Account Today\n",
            "\n",
            "Dear Customer,\n",
            "We noticed unusual activity in your account. Please login immediately via the secure link below to avoid suspension: http://secure-bank-login.verify-now.com\n",
            "Failure to do so may result in permanent account closure.\n",
            "Regards, Bank Security Team\n",
            "Prediction : Spam\n",
            "\n",
            "\u001b[1m1/1\u001b[0m \u001b[32m━━━━━━━━━━━━━━━━━━━━\u001b[0m\u001b[37m\u001b[0m \u001b[1m0s\u001b[0m 27ms/step\n",
            "Sentence : Subject: Congratulations! You’ve been shortlisted!\n",
            "\n",
            "Dear Applicant,\n",
            "Your profile matches our requirements. To secure your high-paying remote position (₹10-15 LPA), provide your bank account and Aadhaar details immediately. Limited slots available!\n",
            "Best, HR Team\n",
            "Prediction : Spam\n",
            "\n",
            "\u001b[1m1/1\u001b[0m \u001b[32m━━━━━━━━━━━━━━━━━━━━\u001b[0m\u001b[37m\u001b[0m \u001b[1m0s\u001b[0m 27ms/step\n",
            "Sentence : Subject: Unlock your prize now!\n",
            "\n",
            "You have won a $5000 gift card! Click the link to claim: http://fakeprizes.com/win-now. Hurry, offer expires soon!\n",
            "Prediction : Spam\n",
            "\n",
            "\u001b[1m1/1\u001b[0m \u001b[32m━━━━━━━━━━━━━━━━━━━━\u001b[0m\u001b[37m\u001b[0m \u001b[1m0s\u001b[0m 27ms/step\n",
            "Sentence : Subject: Final Notice: Tax Refund Pending\n",
            "\n",
            "Dear Taxpayer,\n",
            "Our records show you have a pending refund. Submit your personal and banking information here: http://tax-refund-online.com before 24 hours to get your refund.\n",
            "Prediction : Spam\n",
            "\n",
            "\u001b[1m1/1\u001b[0m \u001b[32m━━━━━━━━━━━━━━━━━━━━\u001b[0m\u001b[37m\u001b[0m \u001b[1m0s\u001b[0m 28ms/step\n",
            "Sentence : Subject: Limited Offer: Get Paid Work from Home\n",
            "\n",
            "Earn ₹50,000/week from your home. No experience required. Sign up here: http://easy-income.com/apply-now\n",
            "Prediction : Spam\n",
            "\n"
          ]
        }
      ]
    },
    {
      "cell_type": "code",
      "source": [
        "non_spam_emails = [\n",
        "\n",
        "    \"Subject: Project Update Meeting Tomorrow\\n\\nHi Team,\\nJust a reminder about the project sync-up at 10:00 AM tomorrow. Please review the attached documents before the meeting.\\nThanks, Amit\",\n",
        "\n",
        "    \"Subject: Exam Results Published\\n\\nDear Student,\\nYour semester 2 results are now available on the student portal. Please login using your credentials to view your grades.\\nRegards, Examination Office, XYZ University\",\n",
        "\n",
        "    \"Subject: Appointment Confirmation\\n\\nHello Priya,\\nYour appointment with Dr. Mehta is confirmed for 11:30 AM on 15th September. Please arrive 10 minutes early.\\nThank you, City Hospital\",\n",
        "\n",
        "    \"Subject: Team Lunch Invitation\\n\\nHi Everyone,\\nWe are organizing a team lunch on Friday at 1 PM. Please RSVP by Thursday so we can make reservations.\\nRegards, Ramesh\",\n",
        "\n",
        "    \"Subject: Subscription Renewal Confirmation\\n\\nDear User,\\nYour subscription for the Premium Plan has been successfully renewed. No further action is required.\\nThanks, Streaming Service Team\"\n",
        "]\n"
      ],
      "metadata": {
        "id": "L3tk4H8eNCbb"
      },
      "execution_count": 51,
      "outputs": []
    },
    {
      "cell_type": "code",
      "source": [
        "for sent in non_spam_emails:\n",
        "  result=predict_senteces(sent)\n",
        "  print(f\"Sentence : {sent}\\nPrediction : {result}\\n\")"
      ],
      "metadata": {
        "colab": {
          "base_uri": "https://localhost:8080/"
        },
        "id": "MtNvRLMvMkrl",
        "outputId": "c6c45663-fdf7-4b69-c0c6-1066df3be59d"
      },
      "execution_count": 52,
      "outputs": [
        {
          "output_type": "stream",
          "name": "stdout",
          "text": [
            "\u001b[1m1/1\u001b[0m \u001b[32m━━━━━━━━━━━━━━━━━━━━\u001b[0m\u001b[37m\u001b[0m \u001b[1m0s\u001b[0m 29ms/step\n",
            "Sentence : Subject: Project Update Meeting Tomorrow\n",
            "\n",
            "Hi Team,\n",
            "Just a reminder about the project sync-up at 10:00 AM tomorrow. Please review the attached documents before the meeting.\n",
            "Thanks, Amit\n",
            "Prediction : Non Spam\n",
            "\n",
            "\u001b[1m1/1\u001b[0m \u001b[32m━━━━━━━━━━━━━━━━━━━━\u001b[0m\u001b[37m\u001b[0m \u001b[1m0s\u001b[0m 27ms/step\n",
            "Sentence : Subject: Exam Results Published\n",
            "\n",
            "Dear Student,\n",
            "Your semester 2 results are now available on the student portal. Please login using your credentials to view your grades.\n",
            "Regards, Examination Office, XYZ University\n",
            "Prediction : Non Spam\n",
            "\n",
            "\u001b[1m1/1\u001b[0m \u001b[32m━━━━━━━━━━━━━━━━━━━━\u001b[0m\u001b[37m\u001b[0m \u001b[1m0s\u001b[0m 27ms/step\n",
            "Sentence : Subject: Appointment Confirmation\n",
            "\n",
            "Hello Priya,\n",
            "Your appointment with Dr. Mehta is confirmed for 11:30 AM on 15th September. Please arrive 10 minutes early.\n",
            "Thank you, City Hospital\n",
            "Prediction : Non Spam\n",
            "\n",
            "\u001b[1m1/1\u001b[0m \u001b[32m━━━━━━━━━━━━━━━━━━━━\u001b[0m\u001b[37m\u001b[0m \u001b[1m0s\u001b[0m 27ms/step\n",
            "Sentence : Subject: Team Lunch Invitation\n",
            "\n",
            "Hi Everyone,\n",
            "We are organizing a team lunch on Friday at 1 PM. Please RSVP by Thursday so we can make reservations.\n",
            "Regards, Ramesh\n",
            "Prediction : Non Spam\n",
            "\n",
            "\u001b[1m1/1\u001b[0m \u001b[32m━━━━━━━━━━━━━━━━━━━━\u001b[0m\u001b[37m\u001b[0m \u001b[1m0s\u001b[0m 29ms/step\n",
            "Sentence : Subject: Subscription Renewal Confirmation\n",
            "\n",
            "Dear User,\n",
            "Your subscription for the Premium Plan has been successfully renewed. No further action is required.\n",
            "Thanks, Streaming Service Team\n",
            "Prediction : Non Spam\n",
            "\n"
          ]
        }
      ]
    },
    {
      "cell_type": "code",
      "source": [
        "test_sentences = [\n",
        "    # Non-Spam\n",
        "    \"Hi Sarah, I just wanted to confirm our meeting on Thursday at 3 pm. The client will be joining us via Zoom, so please make sure the presentation deck is ready by tomorrow evening. Let me know if you need any last-minute support.\",\n",
        "    \"Dear Team, as discussed in the last sprint review, we need everyone to update their weekly progress reports by EOD Friday. This will help us finalize the tasks for the upcoming release cycle. Please reach out if you face blockers.\",\n",
        "    \"Hello Professor, I’ve attached my revised assignment based on your feedback. I also included an additional case study example to strengthen the analysis. Please let me know if there are further improvements I can make.\",\n",
        "    \"Hi David, just a quick reminder about the family get-together next weekend at Grandma’s place. Everyone is expected to bring a dish, so could you confirm if you’ll be making the pasta this time? Looking forward to seeing you all.\",\n",
        "\n",
        "    # Spam\n",
        "    \"Congratulations! You have been chosen as the lucky winner of our grand prize worth $10,000. To claim your reward, simply click on the link below and enter your personal details. Hurry, this exclusive offer is valid only for the next 24 hours.\",\n",
        "    \"Act now to secure your spot in our limited-time investment scheme that guarantees 300% returns in just two months. No prior knowledge or experience is required, but spaces are filling fast, so don’t miss this once-in-a-lifetime opportunity.\",\n",
        "    \"Your account has been flagged for suspicious activity and may be permanently suspended. To restore access, please verify your login details immediately by clicking the secure link provided in this email. Failure to act within 12 hours may result in loss of access.\",\n",
        "    \"Attention! Our records indicate that you are entitled to unclaimed insurance benefits worth thousands of dollars. Please provide your personal information immediately to ensure fast processing of your claim, otherwise your benefits may expire.\"\n",
        "]\n"
      ],
      "metadata": {
        "id": "GDlMqY_I506o"
      },
      "execution_count": 55,
      "outputs": []
    },
    {
      "cell_type": "code",
      "source": [
        "for sent in test_sentences:\n",
        "  result=predict_senteces(sent)\n",
        "  print(f\"Sentence : {sent}\\nPrediction : {result}\\n\")"
      ],
      "metadata": {
        "colab": {
          "base_uri": "https://localhost:8080/"
        },
        "id": "G4eibxGd511Q",
        "outputId": "f1defaa5-23ab-4b12-ada2-6525c1cc21ee"
      },
      "execution_count": 56,
      "outputs": [
        {
          "output_type": "stream",
          "name": "stdout",
          "text": [
            "\u001b[1m1/1\u001b[0m \u001b[32m━━━━━━━━━━━━━━━━━━━━\u001b[0m\u001b[37m\u001b[0m \u001b[1m0s\u001b[0m 29ms/step\n",
            "Sentence : Hi Sarah, I just wanted to confirm our meeting on Thursday at 3 pm. The client will be joining us via Zoom, so please make sure the presentation deck is ready by tomorrow evening. Let me know if you need any last-minute support.\n",
            "Prediction : Non Spam\n",
            "\n",
            "\u001b[1m1/1\u001b[0m \u001b[32m━━━━━━━━━━━━━━━━━━━━\u001b[0m\u001b[37m\u001b[0m \u001b[1m0s\u001b[0m 29ms/step\n",
            "Sentence : Dear Team, as discussed in the last sprint review, we need everyone to update their weekly progress reports by EOD Friday. This will help us finalize the tasks for the upcoming release cycle. Please reach out if you face blockers.\n",
            "Prediction : Non Spam\n",
            "\n",
            "\u001b[1m1/1\u001b[0m \u001b[32m━━━━━━━━━━━━━━━━━━━━\u001b[0m\u001b[37m\u001b[0m \u001b[1m0s\u001b[0m 27ms/step\n",
            "Sentence : Hello Professor, I’ve attached my revised assignment based on your feedback. I also included an additional case study example to strengthen the analysis. Please let me know if there are further improvements I can make.\n",
            "Prediction : Non Spam\n",
            "\n",
            "\u001b[1m1/1\u001b[0m \u001b[32m━━━━━━━━━━━━━━━━━━━━\u001b[0m\u001b[37m\u001b[0m \u001b[1m0s\u001b[0m 27ms/step\n",
            "Sentence : Hi David, just a quick reminder about the family get-together next weekend at Grandma’s place. Everyone is expected to bring a dish, so could you confirm if you’ll be making the pasta this time? Looking forward to seeing you all.\n",
            "Prediction : Non Spam\n",
            "\n",
            "\u001b[1m1/1\u001b[0m \u001b[32m━━━━━━━━━━━━━━━━━━━━\u001b[0m\u001b[37m\u001b[0m \u001b[1m0s\u001b[0m 27ms/step\n",
            "Sentence : Congratulations! You have been chosen as the lucky winner of our grand prize worth $10,000. To claim your reward, simply click on the link below and enter your personal details. Hurry, this exclusive offer is valid only for the next 24 hours.\n",
            "Prediction : Spam\n",
            "\n",
            "\u001b[1m1/1\u001b[0m \u001b[32m━━━━━━━━━━━━━━━━━━━━\u001b[0m\u001b[37m\u001b[0m \u001b[1m0s\u001b[0m 28ms/step\n",
            "Sentence : Act now to secure your spot in our limited-time investment scheme that guarantees 300% returns in just two months. No prior knowledge or experience is required, but spaces are filling fast, so don’t miss this once-in-a-lifetime opportunity.\n",
            "Prediction : Spam\n",
            "\n",
            "\u001b[1m1/1\u001b[0m \u001b[32m━━━━━━━━━━━━━━━━━━━━\u001b[0m\u001b[37m\u001b[0m \u001b[1m0s\u001b[0m 29ms/step\n",
            "Sentence : Your account has been flagged for suspicious activity and may be permanently suspended. To restore access, please verify your login details immediately by clicking the secure link provided in this email. Failure to act within 12 hours may result in loss of access.\n",
            "Prediction : Spam\n",
            "\n",
            "\u001b[1m1/1\u001b[0m \u001b[32m━━━━━━━━━━━━━━━━━━━━\u001b[0m\u001b[37m\u001b[0m \u001b[1m0s\u001b[0m 28ms/step\n",
            "Sentence : Attention! Our records indicate that you are entitled to unclaimed insurance benefits worth thousands of dollars. Please provide your personal information immediately to ensure fast processing of your claim, otherwise your benefits may expire.\n",
            "Prediction : Spam\n",
            "\n"
          ]
        }
      ]
    },
    {
      "cell_type": "code",
      "source": [
        "sent='Dear Candidate, following our discussion last week, your profile has been moved to the next round of evaluation for the Data Analyst role. Our HR team will share the Zoom link and interview schedule by tomorrow evening. Please ensure you are available during the mentioned slot, as rescheduling may not be possible.'\n",
        "\n",
        "\n",
        "predict_senteces(sent)"
      ],
      "metadata": {
        "colab": {
          "base_uri": "https://localhost:8080/",
          "height": 53
        },
        "id": "yM1sOy4L8EcV",
        "outputId": "6f6515ff-1d17-48e7-c62d-0645ed781a5a"
      },
      "execution_count": 57,
      "outputs": [
        {
          "output_type": "stream",
          "name": "stdout",
          "text": [
            "\u001b[1m1/1\u001b[0m \u001b[32m━━━━━━━━━━━━━━━━━━━━\u001b[0m\u001b[37m\u001b[0m \u001b[1m0s\u001b[0m 29ms/step\n"
          ]
        },
        {
          "output_type": "execute_result",
          "data": {
            "text/plain": [
              "'Non Spam'"
            ],
            "application/vnd.google.colaboratory.intrinsic+json": {
              "type": "string"
            }
          },
          "metadata": {},
          "execution_count": 57
        }
      ]
    },
    {
      "cell_type": "markdown",
      "source": [
        "## Note: After testing on multiple sentences, we can see that our LSTM model is correctly classifying spam and non-spam messages.\""
      ],
      "metadata": {
        "id": "h1MsDDMBsRJr"
      }
    }
  ]
}